{
 "cells": [
  {
   "cell_type": "markdown",
   "id": "d55d683e-033a-4658-ad3e-c9e542556f94",
   "metadata": {},
   "source": [
    "# Data Science Tools and Ecosystem"
   ]
  },
  {
   "cell_type": "markdown",
   "id": "6482bf50-daa2-4da4-9758-406ee4e29e30",
   "metadata": {},
   "source": [
    "## Author\n",
    "Thamid Zaman"
   ]
  },
  {
   "cell_type": "markdown",
   "id": "8a08015c-13cd-4d20-bcd4-7a071a3b5989",
   "metadata": {},
   "source": [
    "In this notebook, Data Science Tools and Ecosystem are summarized."
   ]
  },
  {
   "cell_type": "markdown",
   "id": "73f40c61-f781-43ce-ada5-b329a1bac121",
   "metadata": {},
   "source": [
    "***Objectives:***\n",
    "- List popular languages for Data Science\n",
    "- List commonly used libraries used by Data Scientists\n",
    "- Arithmetic expression examples in Python"
   ]
  },
  {
   "cell_type": "markdown",
   "id": "d77da223-9e7a-43d0-9fc6-3317c41173b1",
   "metadata": {},
   "source": [
    "Some of the popular languages that Data Scientists use are:\n",
    "1. Python\n",
    "2. SQL\n",
    "3. R"
   ]
  },
  {
   "cell_type": "markdown",
   "id": "23df6273-e472-40b5-b892-7e9af493f0f0",
   "metadata": {},
   "source": [
    "Some of the commonly used libraries used by Data Scientists include:\n",
    "1. NumPy\n",
    "2. Pandas\n",
    "3. Plotly"
   ]
  },
  {
   "cell_type": "markdown",
   "id": "c870352c-9171-492d-93f4-98f05bc7d646",
   "metadata": {},
   "source": [
    "|Data Science Tools|\n",
    "|------ |\n",
    "|Jupyter Notebook |\n",
    "|RStudio |\n",
    "|Apache Zeppelin|"
   ]
  },
  {
   "attachments": {},
   "cell_type": "markdown",
   "id": "f181374b-d4d8-4b62-93c1-db2756743098",
   "metadata": {},
   "source": [
    "### Below are a few examples of evaluating arithmetic expressions in Python."
   ]
  },
  {
   "cell_type": "code",
   "execution_count": 24,
   "id": "79fb8666-9e55-4e39-84a5-a19a2929011e",
   "metadata": {},
   "outputs": [
    {
     "data": {
      "text/plain": [
       "17"
      ]
     },
     "execution_count": 24,
     "metadata": {},
     "output_type": "execute_result"
    }
   ],
   "source": [
    "# This is a simple arithmetic expression to multiply then add integers\n",
    "(3*4)+5"
   ]
  },
  {
   "cell_type": "code",
   "execution_count": 26,
   "id": "f27a95ab-4c35-42bf-9477-cf03705394bb",
   "metadata": {},
   "outputs": [
    {
     "data": {
      "text/plain": [
       "3.3333333333333335"
      ]
     },
     "execution_count": 26,
     "metadata": {},
     "output_type": "execute_result"
    }
   ],
   "source": [
    "# This will convert 200 minutes to hours by dividing by 60\n",
    "200/60"
   ]
  },
  {
   "cell_type": "code",
   "execution_count": null,
   "id": "0b389bb2-04e2-4eb7-a5b6-b9c34e4e2022",
   "metadata": {},
   "outputs": [],
   "source": []
  }
 ],
 "metadata": {
  "kernelspec": {
   "display_name": "Python 3 (ipykernel)",
   "language": "python",
   "name": "python3"
  },
  "language_info": {
   "codemirror_mode": {
    "name": "ipython",
    "version": 3
   },
   "file_extension": ".py",
   "mimetype": "text/x-python",
   "name": "python",
   "nbconvert_exporter": "python",
   "pygments_lexer": "ipython3",
   "version": "3.12.7"
  }
 },
 "nbformat": 4,
 "nbformat_minor": 5
}
